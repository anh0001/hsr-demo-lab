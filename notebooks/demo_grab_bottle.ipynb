{
 "cells": [
  {
   "cell_type": "code",
   "execution_count": 1,
   "id": "b0ad74a3-374e-4722-8cdc-25b4759607dc",
   "metadata": {},
   "outputs": [],
   "source": [
    "import os\n",
    "import hsrb_interface\n",
    "import rospy\n",
    "import sys\n",
    "from hsrb_interface import geometry"
   ]
  },
  {
   "cell_type": "code",
   "execution_count": 2,
   "id": "9bbf931c-7141-477a-9dbc-6ea7a250b95f",
   "metadata": {},
   "outputs": [
    {
     "name": "stdout",
     "output_type": "stream",
     "text": [
      "http://hsrb.local:11311\n",
      "169.254.52.4\n"
     ]
    }
   ],
   "source": [
    "os.environ['ROS_MASTER_URI'] = 'http://hsrb.local:11311'\n",
    "os.environ['ROS_IP'] = '169.254.52.4'\n",
    "print(os.environ['ROS_MASTER_URI'])\n",
    "print(os.environ['ROS_IP'])"
   ]
  },
  {
   "cell_type": "code",
   "execution_count": 19,
   "id": "2dfa9d42-d23a-4f63-a636-410a877d1b98",
   "metadata": {},
   "outputs": [],
   "source": [
    "# Move timeout[s]\n",
    "_MOVE_TIMEOUT=60.0\n",
    "# Grasp force[N]\n",
    "_GRASP_FORCE=0.2\n",
    "# TF name of the bottle\n",
    "_BOTTLE_TF='ar_marker/1'\n",
    "# TF name of the gripper\n",
    "_HAND_TF='hand_palm_link'"
   ]
  },
  {
   "cell_type": "code",
   "execution_count": 4,
   "id": "b0537f38-5c14-4673-a798-762a14b10aa4",
   "metadata": {},
   "outputs": [],
   "source": [
    "# Preparation for using the robot functions\n",
    "robot = hsrb_interface.Robot()\n",
    "omni_base = robot.get('omni_base')\n",
    "whole_body = robot.get('whole_body')\n",
    "gripper = robot.get('gripper')\n",
    "tts = robot.get('default_tts')"
   ]
  },
  {
   "cell_type": "code",
   "execution_count": 11,
   "id": "1afc41a2-8505-4e43-a0fe-582df91e18d1",
   "metadata": {},
   "outputs": [],
   "source": [
    "# Posture that 0.02[m] front and rotate -1.57 around z-axis of the bottle maker\n",
    "bottle_to_hand = geometry.pose(z=-0.02, ek=-1.57)\n",
    "\n",
    "# Posture to move the hand 0.1[m] up\n",
    "hand_up = geometry.pose(x=0.1)\n",
    "\n",
    "# Posture to move the hand 0.5[m] back\n",
    "hand_back = geometry.pose(z=-0.5)\n",
    "\n",
    "# Location of the sofa\n",
    "sofa_pos = (1.2, 0.4, 1.57)"
   ]
  },
  {
   "cell_type": "code",
   "execution_count": 6,
   "id": "aa757ca4-efd9-4cd1-aa7e-415dfa878ba7",
   "metadata": {},
   "outputs": [],
   "source": [
    "# Greet\n",
    "rospy.sleep(5.0)\n",
    "tts.say('Hi. My name is Mobi. I will pick the bottle on the table.')\n",
    "rospy.sleep(5.0)"
   ]
  },
  {
   "cell_type": "code",
   "execution_count": 26,
   "id": "908e7c7e-9b5a-494c-ad99-4aeb3eb7fa2c",
   "metadata": {},
   "outputs": [],
   "source": [
    "try:\n",
    "    gripper.command(1.0)\n",
    "    whole_body.move_to_go()\n",
    "except:\n",
    "    tts.say('Fail to initialize.')\n",
    "    rospy.logerr('fail to init')\n",
    "    sys.exit()"
   ]
  },
  {
   "cell_type": "code",
   "execution_count": 24,
   "id": "6048b627-4f03-4a7f-93ab-c0a281325df3",
   "metadata": {},
   "outputs": [],
   "source": [
    "# Transit to initial grasping posture\n",
    "whole_body.move_to_neutral()\n",
    "# Look at the hand after the transition\n",
    "whole_body.looking_hand_constraint = True"
   ]
  },
  {
   "cell_type": "code",
   "execution_count": 25,
   "id": "f1176745-125c-40c1-b449-5d1ea2285315",
   "metadata": {},
   "outputs": [],
   "source": [
    "try:\n",
    "    # Transit to initial grasping posture\n",
    "    whole_body.move_to_neutral()\n",
    "    # Look at the hand after the transition\n",
    "    whole_body.looking_hand_constraint = True\n",
    "    # Move the hand to front of the bottle\n",
    "    whole_body.move_end_effector_pose(bottle_to_hand, _BOTTLE_TF)\n",
    "    # Specify the force to grasp\n",
    "    gripper.apply_force(_GRASP_FORCE)\n",
    "    # Wait time for simulator's grasp hack. Not needed on actual robot\n",
    "    rospy.sleep(2.0)\n",
    "    # Move the hand up on end effector coordinate\n",
    "    whole_body.move_end_effector_pose(hand_up, _HAND_TF)\n",
    "    # Move the hand back on end effector coordinate\n",
    "    whole_body.move_end_effector_pose(hand_back, _HAND_TF)\n",
    "    # Transit to initial posture\n",
    "    whole_body.move_to_neutral()\n",
    "except:\n",
    "    tts.say('Fail to grasp.')\n",
    "    rospy.logerr('fail to grasp')\n",
    "    sys.exit()"
   ]
  },
  {
   "cell_type": "code",
   "execution_count": 22,
   "id": "d1f91d6e-269c-43f1-aa75-b73e479b6c76",
   "metadata": {},
   "outputs": [
    {
     "name": "stdout",
     "output_type": "stream",
     "text": [
      "\u001b[0m[ INFO] [1724007460.650072726]: rviz version 1.14.25\u001b[0m\n",
      "\u001b[0m[ INFO] [1724007460.650115222]: compiled against Qt version 5.12.8\u001b[0m\n",
      "\u001b[0m[ INFO] [1724007460.650127941]: compiled against OGRE version 1.9.0 (Ghadamon)\u001b[0m\n",
      "\u001b[0m[ INFO] [1724007460.777141755]: Forcing OpenGl version 0.\u001b[0m\n",
      "\u001b[0m[ INFO] [1724007461.002312297]: Stereo is NOT SUPPORTED\u001b[0m\n",
      "\u001b[0m[ INFO] [1724007461.002342118]: OpenGL device: Mesa Intel(R) UHD Graphics 630 (CFL GT2)\u001b[0m\n",
      "\u001b[0m[ INFO] [1724007461.002353455]: OpenGl version: 4.6 (GLSL 4.6) limited to GLSL 1.4 on Mesa system.\u001b[0m\n"
     ]
    }
   ],
   "source": [
    "%%bash\n",
    "rosrun rviz rviz  -d rospack find hsrb_common_launch/config/hsrb_display_full_hsrb.rviz"
   ]
  },
  {
   "cell_type": "code",
   "execution_count": null,
   "id": "9c71ddca-53ff-46dc-8739-8dbf0b93e2d6",
   "metadata": {},
   "outputs": [],
   "source": []
  }
 ],
 "metadata": {
  "kernelspec": {
   "display_name": "Python 3 (ipykernel)",
   "language": "python",
   "name": "python3"
  },
  "language_info": {
   "codemirror_mode": {
    "name": "ipython",
    "version": 3
   },
   "file_extension": ".py",
   "mimetype": "text/x-python",
   "name": "python",
   "nbconvert_exporter": "python",
   "pygments_lexer": "ipython3",
   "version": "3.8.10"
  }
 },
 "nbformat": 4,
 "nbformat_minor": 5
}

{
 "cells": [
  {
   "cell_type": "code",
   "execution_count": 66,
   "id": "b0ad74a3-374e-4722-8cdc-25b4759607dc",
   "metadata": {},
   "outputs": [],
   "source": [
    "import os\n",
    "import hsrb_interface\n",
    "import rospy\n",
    "import sys\n",
    "from hsrb_interface import geometry"
   ]
  },
  {
   "cell_type": "code",
   "execution_count": 67,
   "id": "9bbf931c-7141-477a-9dbc-6ea7a250b95f",
   "metadata": {},
   "outputs": [
    {
     "name": "stdout",
     "output_type": "stream",
     "text": [
      "http://hsrb.local:11311\n",
      "169.254.175.178\n"
     ]
    }
   ],
   "source": [
    "os.environ['ROS_MASTER_URI'] = 'http://hsrb.local:11311'\n",
    "os.environ['ROS_IP'] = '169.254.175.178'  // IP address of your laptop\n",
    "print(os.environ['ROS_MASTER_URI'])\n",
    "print(os.environ['ROS_IP'])"
   ]
  },
  {
   "cell_type": "code",
   "execution_count": 68,
   "id": "2dfa9d42-d23a-4f63-a636-410a877d1b98",
   "metadata": {},
   "outputs": [],
   "source": [
    "# Move timeout[s]\n",
    "_MOVE_TIMEOUT=60.0\n",
    "# Grasp force[N]\n",
    "_GRASP_FORCE=0.2\n",
    "# TF name of the OBJECT\n",
    "_BOTTLE_TF='ar_marker/4'\n",
    "_TABLE_TF='ar_marker/6'\n",
    "_HOMEPOS_TF='ar_marker/3'\n",
    "_TRASH_TF='ar_marker/7'\n",
    "# TF name of the gripper\n",
    "_HAND_TF='hand_palm_link'"
   ]
  },
  {
   "cell_type": "code",
   "execution_count": 69,
   "id": "b0537f38-5c14-4673-a798-762a14b10aa4",
   "metadata": {},
   "outputs": [],
   "source": [
    "# Preparation for using the robot functions\n",
    "robot = hsrb_interface.Robot()\n",
    "omni_base = robot.get('omni_base')\n",
    "whole_body = robot.get('whole_body')\n",
    "gripper = robot.get('gripper')\n",
    "tts = robot.get('default_tts')"
   ]
  },
  {
   "cell_type": "code",
   "execution_count": 70,
   "id": "1afc41a2-8505-4e43-a0fe-582df91e18d1",
   "metadata": {},
   "outputs": [],
   "source": [
    "# Posture that 0.02[m] front and rotate -1.57 around z-axis of the bottle maker\n",
    "bottle_to_hand = geometry.pose(z=-0.02, ek=-1.57)\n",
    "bottle_to_trash = geometry.pose(z=-0.2, ek=-1.57)\n",
    "\n",
    "# Posture to move the hand 0.1[m] up\n",
    "hand_up = geometry.pose(x=0.1)\n",
    "\n",
    "# Posture to move the hand 0.5[m] back\n",
    "hand_back = geometry.pose(z=-0.5)\n",
    "\n",
    "# Location of the sofa\n",
    "sofa_pos = (1.2, 0.4, 1.57)"
   ]
  },
  {
   "cell_type": "code",
   "execution_count": 71,
   "id": "aa757ca4-efd9-4cd1-aa7e-415dfa878ba7",
   "metadata": {},
   "outputs": [],
   "source": [
    "# Greet\n",
    "rospy.sleep(3.0)\n",
    "whole_body.move_to_go()\n",
    "tts.say('こんにちは. My name is HSR. Nice to meet you. はじめましょう.')\n",
    "rospy.sleep(5.0)"
   ]
  },
  {
   "cell_type": "code",
   "execution_count": 72,
   "id": "ac1658cd-0284-4f74-bd28-26b3c451090b",
   "metadata": {},
   "outputs": [
    {
     "data": {
      "text/plain": [
       "[0.1996876919000958, 0.2155823133246017, -0.20140952605014725]"
      ]
     },
     "execution_count": 72,
     "metadata": {},
     "output_type": "execute_result"
    }
   ],
   "source": [
    "omni_base.pose"
   ]
  },
  {
   "cell_type": "code",
   "execution_count": 73,
   "id": "6048b627-4f03-4a7f-93ab-c0a281325df3",
   "metadata": {},
   "outputs": [],
   "source": [
    "# Transit to initial grasping posture\n",
    "whole_body.move_to_neutral()\n",
    "# Look at the hand after the transition\n",
    "whole_body.looking_hand_constraint = True"
   ]
  },
  {
   "cell_type": "code",
   "execution_count": 75,
   "id": "908e7c7e-9b5a-494c-ad99-4aeb3eb7fa2c",
   "metadata": {},
   "outputs": [],
   "source": [
    "try:\n",
    "     # Transit to initial grasping posture\n",
    "    whole_body.move_to_go()\n",
    "    omni_base.go_abs(2.598127270382162, 0.24041103105294316, -0.16538801251765786, 300.0)\n",
    "    whole_body.move_to_neutral()\n",
    "    rospy.sleep(1.0)\n",
    "    omni_base.go_pose(geometry.pose(z=-1.0, ei=3.14, ej=-1.57), 100.0, ref_frame_id='ar_marker/6')\n",
    "    tts.say('I will scan the bottle')\n",
    "    omni_base.pose\n",
    "except:\n",
    "    tts.say('たすけてください')\n",
    "    rospy.logerr('fail to init')\n",
    "    sys.exit()"
   ]
  },
  {
   "cell_type": "code",
   "execution_count": 76,
   "id": "f4abfed8-3246-454c-97d5-57dbe46cf4f8",
   "metadata": {},
   "outputs": [
    {
     "data": {
      "text/plain": [
       "[2.7373663498903436, 0.2271743743052535, -0.2532782648420947]"
      ]
     },
     "execution_count": 76,
     "metadata": {},
     "output_type": "execute_result"
    }
   ],
   "source": [
    "omni_base.pose #table"
   ]
  },
  {
   "cell_type": "code",
   "execution_count": 77,
   "id": "5ad96dbf-ef88-4e0d-9740-02ec58cc0c15",
   "metadata": {},
   "outputs": [],
   "source": [
    "try:\n",
    "    rospy.sleep(2.0)\n",
    "    whole_body.move_to_neutral()\n",
    "    # Look at the hand after the transition\n",
    "    whole_body.looking_hand_constraint = True\n",
    "    # Move the hand to front of the bottle\n",
    "    whole_body.move_end_effector_pose(bottle_to_hand, _BOTTLE_TF)\n",
    "    # Specify the force to grasp\n",
    "    gripper.apply_force(_GRASP_FORCE)\n",
    "    # Wait time for simulator's grasp hack. Not needed on actual robot\n",
    "    rospy.sleep(2.0)\n",
    "    # Move the hand up on end effector coordinate\n",
    "    whole_body.move_end_effector_pose(hand_up, _HAND_TF)\n",
    "    # Move the hand back on end effector coordinate\n",
    "    whole_body.move_end_effector_pose(hand_back, _HAND_TF)\n",
    "    # Transit to initial posture\n",
    "    whole_body.move_to_neutral()\n",
    "except:\n",
    "    tts.say('たすけてください')\n",
    "    rospy.logerr('fail to init')\n",
    "    sys.exit()"
   ]
  },
  {
   "cell_type": "code",
   "execution_count": 78,
   "id": "f1176745-125c-40c1-b449-5d1ea2285315",
   "metadata": {},
   "outputs": [],
   "source": [
    "try:\n",
    "    omni_base.go_abs(1.6889372569076162, -1.4412442913589325, -1.528230570580849, 300.0)\n",
    "    tts.say('I will put the bottle into the trash')\n",
    "    rospy.sleep(5.0)\n",
    "    whole_body.move_to_neutral()\n",
    "    #Look at the hand after the transition\n",
    "    whole_body.looking_hand_constraint = True\n",
    "    # Move the hand to front of the bottle\n",
    "    whole_body.move_end_effector_pose(bottle_to_trash, _TRASH_TF)\n",
    "    gripper.command(1.2)\n",
    "    omni_base.pose\n",
    "    whole_body.move_end_effector_pose(hand_back, _HAND_TF)\n",
    "    whole_body.move_to_go()\n",
    "    omni_base.go_rel(0.0, 0.0, 2.5, 100.0)\n",
    "\n",
    "except:\n",
    "    try:\n",
    "        omni_base.go_rel(0.0, 0.0, 0.7, 100.0)\n",
    "        tts.say('I will put the bottle into the trash')\n",
    "        rospy.sleep(5.0)\n",
    "        #omni_base.go_rel(1.5, 0.0, 0.0, 100.0)\n",
    "        whole_body.move_to_neutral()\n",
    "        #Look at the hand after the transition\n",
    "        whole_body.looking_hand_constraint = True\n",
    "        # Move the hand to front of the bottle\n",
    "        whole_body.move_end_effector_pose(bottle_to_trash, _TRASH_TF)\n",
    "        gripper.command(1.2)\n",
    "        whole_body.move_end_effector_pose(hand_back, _HAND_TF)\n",
    "        whole_body.move_to_go()\n",
    "        omni_base.go_rel(0.0, 0.0, 2.5, 100.0)\n",
    "    except:\n",
    "        omni_base.go_rel(0.0, 0.0, -0.5, 100.0)\n",
    "        tts.say('I will put the bottle into the trash')\n",
    "        rospy.sleep(5.0)\n",
    "        #omni_base.go_rel(1.5, 0.0, 0.0, 100.0)\n",
    "        whole_body.move_to_neutral()\n",
    "        #Look at the hand after the transition\n",
    "        whole_body.looking_hand_constraint = True\n",
    "        # Move the hand to front of the bottle\n",
    "        whole_body.move_end_effector_pose(bottle_to_trash, _TRASH_TF)\n",
    "        gripper.command(1.2)\n",
    "        whole_body.move_end_effector_pose(hand_back, _HAND_TF)\n",
    "        whole_body.move_to_go()\n",
    "        omni_base.go_rel(0.0, 0.0, 5.5, 100.0)\n",
    "        tts.say('助けてください')\n",
    "        rospy.logerr('fail to grasp')\n",
    "        sys.exit()"
   ]
  },
  {
   "cell_type": "code",
   "execution_count": 79,
   "id": "6675e7c8-3d7c-4637-b5ed-69e8a083c47e",
   "metadata": {},
   "outputs": [
    {
     "data": {
      "text/plain": [
       "[1.8459472666886823, -1.5672957195346993, 0.9950632838061805]"
      ]
     },
     "execution_count": 79,
     "metadata": {},
     "output_type": "execute_result"
    }
   ],
   "source": [
    "omni_base.pose"
   ]
  },
  {
   "cell_type": "code",
   "execution_count": 83,
   "id": "38994b7c-bbd7-47d2-97b1-a4df1d62ba6c",
   "metadata": {},
   "outputs": [
    {
     "ename": "MobileBaseError",
     "evalue": "Failed to reach goal ()",
     "output_type": "error",
     "traceback": [
      "\u001b[0;31m---------------------------------------------------------------------------\u001b[0m",
      "\u001b[0;31mMobileBaseError\u001b[0m                           Traceback (most recent call last)",
      "Cell \u001b[0;32mIn[83], line 2\u001b[0m\n\u001b[1;32m      1\u001b[0m \u001b[38;5;66;03m#omni_base.go_rel(0.0, 0.0, 1.0, 100.0)\u001b[39;00m\n\u001b[0;32m----> 2\u001b[0m \u001b[43momni_base\u001b[49m\u001b[38;5;241;43m.\u001b[39;49m\u001b[43mgo_abs\u001b[49m\u001b[43m(\u001b[49m\u001b[38;5;241;43m-\u001b[39;49m\u001b[38;5;241;43m0.000896763500183281\u001b[39;49m\u001b[43m,\u001b[49m\u001b[43m \u001b[49m\u001b[38;5;241;43m0.0005740724114742323\u001b[39;49m\u001b[43m,\u001b[49m\u001b[43m \u001b[49m\u001b[38;5;241;43m-\u001b[39;49m\u001b[38;5;241;43m0.0015563745280494801\u001b[39;49m\u001b[43m,\u001b[49m\u001b[43m \u001b[49m\u001b[38;5;241;43m300.0\u001b[39;49m\u001b[43m)\u001b[49m\n\u001b[1;32m      3\u001b[0m whole_body\u001b[38;5;241m.\u001b[39mmove_to_go()\n\u001b[1;32m      4\u001b[0m tts\u001b[38;5;241m.\u001b[39msay(\u001b[38;5;124m'\u001b[39m\u001b[38;5;124mおわりました。ありがとうございました\u001b[39m\u001b[38;5;124m'\u001b[39m)\n",
      "File \u001b[0;32m/opt/ros/noetic/lib/python3/dist-packages/hsrb_interface/mobile_base.py:147\u001b[0m, in \u001b[0;36mMobileBase.go_abs\u001b[0;34m(self, x, y, yaw, timeout)\u001b[0m\n\u001b[1;32m    145\u001b[0m ref_frame_id \u001b[38;5;241m=\u001b[39m settings\u001b[38;5;241m.\u001b[39mget_frame(\u001b[38;5;124m'\u001b[39m\u001b[38;5;124mmap\u001b[39m\u001b[38;5;124m'\u001b[39m)\n\u001b[1;32m    146\u001b[0m goal \u001b[38;5;241m=\u001b[39m \u001b[38;5;28mself\u001b[39m\u001b[38;5;241m.\u001b[39mcreate_go_pose_goal(pose, ref_frame_id)\n\u001b[0;32m--> 147\u001b[0m \u001b[38;5;28;43mself\u001b[39;49m\u001b[38;5;241;43m.\u001b[39;49m\u001b[43m_send_goal_pose_and_wait\u001b[49m\u001b[43m(\u001b[49m\u001b[43mgoal\u001b[49m\u001b[43m,\u001b[49m\u001b[43m \u001b[49m\u001b[43mtimeout\u001b[49m\u001b[43m)\u001b[49m\n",
      "File \u001b[0;32m/opt/ros/noetic/lib/python3/dist-packages/hsrb_interface/mobile_base.py:201\u001b[0m, in \u001b[0;36mMobileBase._send_goal_pose_and_wait\u001b[0;34m(self, goal, timeout)\u001b[0m\n\u001b[1;32m    199\u001b[0m         error_text \u001b[38;5;241m=\u001b[39m \u001b[38;5;28mself\u001b[39m\u001b[38;5;241m.\u001b[39m_action_client\u001b[38;5;241m.\u001b[39mget_goal_status_text()\n\u001b[1;32m    200\u001b[0m         msg \u001b[38;5;241m=\u001b[39m \u001b[38;5;124m'\u001b[39m\u001b[38;5;124mFailed to reach goal (\u001b[39m\u001b[38;5;132;01m{0}\u001b[39;00m\u001b[38;5;124m)\u001b[39m\u001b[38;5;124m'\u001b[39m\u001b[38;5;241m.\u001b[39mformat(error_text)\n\u001b[0;32m--> 201\u001b[0m         \u001b[38;5;28;01mraise\u001b[39;00m exceptions\u001b[38;5;241m.\u001b[39mMobileBaseError(msg)\n\u001b[1;32m    202\u001b[0m \u001b[38;5;28;01melse\u001b[39;00m:\n\u001b[1;32m    203\u001b[0m     \u001b[38;5;28mself\u001b[39m\u001b[38;5;241m.\u001b[39m_action_client\u001b[38;5;241m.\u001b[39mcancel_goal()\n",
      "\u001b[0;31mMobileBaseError\u001b[0m: Failed to reach goal ()"
     ]
    }
   ],
   "source": [
    "    #omni_base.go_rel(0.0, 0.0, 1.0, 100.0)\n",
    "    omni_base.go_abs(-0.000896763500183281, 0.0005740724114742323, -0.0015563745280494801, 300.0)\n",
    "    whole_body.move_to_go()\n",
    "    tts.say('おわりました。ありがとうございました')\n",
    "    whole_body.move_to_joint_positions({'head_tilt_joint': 1.0,'head_tilt_joint': -0.5})\n",
    "    \n",
    "    "
   ]
  },
  {
   "cell_type": "code",
   "execution_count": 81,
   "id": "eb4335ae-50d3-462f-8d2b-bdeec8cc3825",
   "metadata": {},
   "outputs": [],
   "source": [
    "try:\n",
    "    omni_base.go_rel(1.5, 0.1, 0.0, 100.0)\n",
    "    tts.say('I am going home')\n",
    "    rospy.sleep(3.0)\n",
    "    omni_base.go_rel(0.0, 0.0, 1.0, 100.0)\n",
    "    whole_body.move_to_neutral()\n",
    "    omni_base.go_rel(2.0, 0.0, 0.0, 100.0)\n",
    "    whole_body.move_to_go()\n",
    "    omni_base.go_pose(geometry.pose(z=-0.5, ei=3.14, ej=-1.57), 100.0, ref_frame_id='ar_marker/3')\n",
    "    rospy.sleep(2.0)\n",
    "    omni_base.go_rel(0.0, 0.0, 3.5, 100.0)\n",
    "    whole_body.move_to_go()\n",
    "    whole_body.move_to_joint_positions({'head_tilt_joint': 1.0,'head_tilt_joint': -0.5})\n",
    "    tts.say('おわりました。ありがとうございました')\n",
    "    \n",
    "\n",
    "except:\n",
    "    try:\n",
    "        omni_base.go_rel(0.0, 0.0, -1.0, 100.0)\n",
    "        whole_body.move_to_neutral()\n",
    "        omni_base.go_rel(0.5, 0.0, 0.0, 100.0)\n",
    "        whole_body.move_to_go()\n",
    "        omni_base.go_pose(geometry.pose(z=-0.5, ei=3.14, ej=-1.57), 100.0, ref_frame_id='ar_marker/3')\n",
    "        rospy.sleep(2.0)\n",
    "        omni_base.go_rel(0.0, 0.0, 3.5, 100.0)\n",
    "        whole_body.move_to_go()\n",
    "        whole_body.move_to_joint_positions({'head_tilt_joint': 1.0,'head_tilt_joint': -0.5})\n",
    "    except:\n",
    "        omni_base.go_rel(0.0, 0.0, 1.0, 100.0)\n",
    "        whole_body.move_to_neutral()\n",
    "        omni_base.go_rel(0.5, 0.0, 0.0, 100.0)\n",
    "        whole_body.move_to_go()\n",
    "        omni_base.go_pose(geometry.pose(z=-0.5, ei=3.14, ej=-1.57), 100.0, ref_frame_id='ar_marker/3')\n",
    "        rospy.sleep(2.0)\n",
    "        omni_base.go_rel(0.0, 0.0, 3.5, 100.0)\n",
    "        whole_body.move_to_go()\n",
    "        whole_body.move_to_joint_positions({'head_tilt_joint': 1.0,'head_tilt_joint': -0.5})\n",
    "    tts.say('おわりました。ありがとうございました')\n",
    "    tts.say('助けてください')\n",
    "    rospy.logerr('fail to grasp')\n",
    "    sys.exit()"
   ]
  },
  {
   "cell_type": "code",
   "execution_count": null,
   "id": "d1f91d6e-269c-43f1-aa75-b73e479b6c76",
   "metadata": {},
   "outputs": [],
   "source": [
    "%%bash\n",
    "rosrun rviz rviz  -d rospack find hsrb_common_launch/config/hsrb_display_full_hsrb.rviz"
   ]
  },
  {
   "cell_type": "code",
   "execution_count": null,
   "id": "9c71ddca-53ff-46dc-8739-8dbf0b93e2d6",
   "metadata": {},
   "outputs": [],
   "source": []
  }
 ],
 "metadata": {
  "kernelspec": {
   "display_name": "Python 3 (ipykernel)",
   "language": "python",
   "name": "python3"
  },
  "language_info": {
   "codemirror_mode": {
    "name": "ipython",
    "version": 3
   },
   "file_extension": ".py",
   "mimetype": "text/x-python",
   "name": "python",
   "nbconvert_exporter": "python",
   "pygments_lexer": "ipython3",
   "version": "3.8.10"
  }
 },
 "nbformat": 4,
 "nbformat_minor": 5
}
